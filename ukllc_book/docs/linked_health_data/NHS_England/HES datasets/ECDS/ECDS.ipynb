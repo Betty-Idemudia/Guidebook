{
 "cells": [
  {
   "attachments": {},
   "cell_type": "markdown",
   "id": "c928623b",
   "metadata": {},
   "source": [
    "# Emergency Care Data Set\n",
    "## 1. Summary\n",
    "The information below is retrieved from the Health Data Gateway API developed by NHS England, with additional fields added by UK LLC."
   ]
  },
  {
   "cell_type": "code",
   "execution_count": 1,
   "id": "910dadbd",
   "metadata": {},
   "outputs": [],
   "source": [
    "# define target dataset to document\n",
    "schema = 'nhsd'\n",
    "table = 'ECDS'\n",
    "version = 'v0002'\n",
    "# import functions from script helper\n",
    "import sys\n",
    "script_fp = \"../../../../scripts/\"\n",
    "sys.path.insert(0, script_fp)\n",
    "from data_doc_helper import DocHelper\n",
    "# create instance\n",
    "document = DocHelper(schema, table, version, script_fp)\n",
    "# markdown/code hybrid cell module requirement\n",
    "from IPython.display import display, Markdown"
   ]
  },
  {
   "cell_type": "code",
   "execution_count": 2,
   "id": "103f2c9b",
   "metadata": {},
   "outputs": [
    {
     "data": {
      "text/markdown": [
       "**NHS England title of dataset:** Emergency Care Data Set (ECDS)"
      ],
      "text/plain": [
       "<IPython.core.display.Markdown object>"
      ]
     },
     "metadata": {},
     "output_type": "display_data"
    },
    {
     "data": {
      "text/markdown": [
       "**Dataset name in UK LLC TRE**: nhsd.ECDS"
      ],
      "text/plain": [
       "<IPython.core.display.Markdown object>"
      ]
     },
     "metadata": {},
     "output_type": "display_data"
    },
    {
     "data": {
      "text/markdown": [
       "**Short abstract:** The Emergency Care Data Set (ECDS) is a national data set providing information to support the care provided in emergency departments by including the data items needed to understand capacity and demand and help improve patient care."
      ],
      "text/plain": [
       "<IPython.core.display.Markdown object>"
      ]
     },
     "metadata": {},
     "output_type": "display_data"
    },
    {
     "data": {
      "text/markdown": [
       "**Extended abstract:** The Emergency Care Data Set (ECDS) is the national data set for urgent and emergency care. It replaced Accident & Emergency Commissioning Data Set (CDS type 010) and was implemented through: ECDS (CDS 6.2.2 Type 011). ECDS allows NHS Digital to provide information to support the care provided in emergency departments by including the data items needed to understand capacity and demand and help improve patient care.\n",
       "\n",
       "ECDS Type 011 is better equipped to keep pace with the increasing complexity of delivering emergency care than its predecessor.  This means that the improved quality of data collected in emergency departments provides better support to healthcare planning and better-informed decision making on improvements to services. \n",
       "\n",
       "This improved data helps improve understanding of:\n",
       "The complexity and acuity of attending patients\n",
       "The causes of rising demand\n",
       "The value added by emergency departments.\n",
       "\n",
       "ECDS also allows:\n",
       "The capture of better diagnostic data to ensure an enhanced understanding of need, activity and outcomes. \n",
       "Consistent monitoring of data across local and national initiatives\n",
       "support for injury surveillance, such that it will be possible to identify patterns that may be amenable to targeted interventions and improved public health.\n",
       "Which in turn informs more effective and efficient resource deployment.\n",
       "\n",
       "Please note, data can be submitted to the ECDS on a daily basis, however data extracts are made available via the DARS process on the second Thursday of each month, comprising provisional data for the full financial year up to and including the penultimate full month prior to the publication date. For example: Data for events that occurred 01/04/2020 to 31/10/2020 is made available via DARS extract on 10/12/2020.\n",
       "\n",
       "Timescales for dissemination of agreed data can be found under 'Our Service Levels' at the following link: https://digital.nhs.uk/services/data-access-request-service-dars/data-access-request-service-dars-process"
      ],
      "text/plain": [
       "<IPython.core.display.Markdown object>"
      ]
     },
     "metadata": {},
     "output_type": "display_data"
    },
    {
     "data": {
      "text/markdown": [
       "**Geographical coverage:** United Kingdom,England"
      ],
      "text/plain": [
       "<IPython.core.display.Markdown object>"
      ]
     },
     "metadata": {},
     "output_type": "display_data"
    },
    {
     "data": {
      "text/markdown": [
       "**Temporal coverage:** 01/10/2017"
      ],
      "text/plain": [
       "<IPython.core.display.Markdown object>"
      ]
     },
     "metadata": {},
     "output_type": "display_data"
    },
    {
     "data": {
      "text/markdown": [
       "**Data available from**: 01/10/2017 onwards"
      ],
      "text/plain": [
       "<IPython.core.display.Markdown object>"
      ]
     },
     "metadata": {},
     "output_type": "display_data"
    },
    {
     "data": {
      "text/markdown": [
       "**Typical age range:** 0-150"
      ],
      "text/plain": [
       "<IPython.core.display.Markdown object>"
      ]
     },
     "metadata": {},
     "output_type": "display_data"
    },
    {
     "data": {
      "text/markdown": [
       "**Collection situation:** ACCIDENT AND EMERGENCY"
      ],
      "text/plain": [
       "<IPython.core.display.Markdown object>"
      ]
     },
     "metadata": {},
     "output_type": "display_data"
    },
    {
     "data": {
      "text/markdown": [
       "**Purpose:** CARE"
      ],
      "text/plain": [
       "<IPython.core.display.Markdown object>"
      ]
     },
     "metadata": {},
     "output_type": "display_data"
    },
    {
     "data": {
      "text/markdown": [
       "**Source:** EPR"
      ],
      "text/plain": [
       "<IPython.core.display.Markdown object>"
      ]
     },
     "metadata": {},
     "output_type": "display_data"
    },
    {
     "data": {
      "text/markdown": [
       "**Pathway:** Urgent and Emergency Care"
      ],
      "text/plain": [
       "<IPython.core.display.Markdown object>"
      ]
     },
     "metadata": {},
     "output_type": "display_data"
    },
    {
     "data": {
      "text/markdown": [
       "**Information collected**: Patient demographics, dates of attendance, admission and discharge, presenting complaints, outcomes of attendance, waiting time, clinical investigations, diagnosis and treatment"
      ],
      "text/plain": [
       "<IPython.core.display.Markdown object>"
      ]
     },
     "metadata": {},
     "output_type": "display_data"
    },
    {
     "data": {
      "text/markdown": [
       "**Structure of dataset**: Each attendance is represented by a distinct row of data. A patient may have multiple attendances in any given finanicial year. If a patient arrives and is sent to a different clinic (i.e. walk-in clinic), this may appear as two records. Where follow up care is required and provided by the A&E department, a second planned attendance is recorded"
      ],
      "text/plain": [
       "<IPython.core.display.Markdown object>"
      ]
     },
     "metadata": {},
     "output_type": "display_data"
    },
    {
     "data": {
      "text/markdown": [
       "**Update frequency in UK LLC TRE**: Quarterly"
      ],
      "text/plain": [
       "<IPython.core.display.Markdown object>"
      ]
     },
     "metadata": {},
     "output_type": "display_data"
    },
    {
     "data": {
      "text/markdown": [
       "**Dataset version in UK LLC TRE**: TBC"
      ],
      "text/plain": [
       "<IPython.core.display.Markdown object>"
      ]
     },
     "metadata": {},
     "output_type": "display_data"
    },
    {
     "data": {
      "text/markdown": [
       "**Summary of changes between dataset versions**: TBC"
      ],
      "text/plain": [
       "<IPython.core.display.Markdown object>"
      ]
     },
     "metadata": {},
     "output_type": "display_data"
    },
    {
     "data": {
      "text/markdown": [
       "**Data quality issues**: TBC"
      ],
      "text/plain": [
       "<IPython.core.display.Markdown object>"
      ]
     },
     "metadata": {},
     "output_type": "display_data"
    },
    {
     "data": {
      "text/markdown": [
       "**Restrictions to data usage**: Medical purposes only"
      ],
      "text/plain": [
       "<IPython.core.display.Markdown object>"
      ]
     },
     "metadata": {},
     "output_type": "display_data"
    },
    {
     "data": {
      "text/markdown": [
       "**Further information**: https://digital.nhs.uk/data-and-information/data-tools-and-services/data-services/hospital-episode-statistics"
      ],
      "text/plain": [
       "<IPython.core.display.Markdown object>"
      ]
     },
     "metadata": {},
     "output_type": "display_data"
    }
   ],
   "source": [
    "# get api data\n",
    "dataset = document.get_api_data()\n",
    "display(Markdown(\"**NHS England title of dataset:** \"+dataset['datasetfields']['metadataquality']['title']))\n",
    "display(Markdown(\"**Dataset name in UK LLC TRE**: nhsd.ECDS\"))  \n",
    "display(Markdown(\"**Short abstract:** \"+dataset['datasetfields']['abstract']))\n",
    "display(Markdown(\"**Extended abstract:** \"+dataset['datasetv2']['documentation']['description']))\n",
    "display(Markdown(\"**Geographical coverage:** \"+dataset['datasetfields']['geographicCoverage'][0]))\n",
    "display(Markdown(\"**Temporal coverage:** \"+dataset['datasetfields']['datasetStartDate']))\n",
    "display(Markdown(\"**Data available from**: 01/10/2017 onwards\"))\n",
    "display(Markdown(\"**Typical age range:** \"+dataset['datasetfields']['ageBand']))\n",
    "display(Markdown(\"**Collection situation:** \"+dataset['datasetv2']['provenance']['origin']['collectionSituation'][0]))\n",
    "display(Markdown(\"**Purpose:** \"+dataset['datasetv2']['provenance']['origin']['purpose'][0]))\n",
    "display(Markdown(\"**Source:** \"+dataset['datasetv2']['provenance']['origin']['source'][0]))\n",
    "display(Markdown(\"**Pathway:** \"+dataset['datasetv2']['coverage']['pathway']))\n",
    "display(Markdown(\"**Information collected**: Patient demographics, dates of attendance, admission and discharge, presenting complaints, outcomes of attendance, waiting time, clinical investigations, diagnosis and treatment\"))  \n",
    "display(Markdown(\"**Structure of dataset**: Each attendance is represented by a distinct row of data. A patient may have multiple attendances in any given finanicial year. If a patient arrives and is sent to a different clinic (i.e. walk-in clinic), this may appear as two records. Where follow up care is required and provided by the A&E department, a second planned attendance is recorded\"))  \n",
    "display(Markdown(\"**Update frequency in UK LLC TRE**: Quarterly\"))  \n",
    "display(Markdown(\"**Dataset version in UK LLC TRE**: TBC\"))\n",
    "display(Markdown(\"**Summary of changes between dataset versions**: TBC\"))  \n",
    "display(Markdown(\"**Data quality issues**: TBC\"))  \n",
    "display(Markdown(\"**Restrictions to data usage**: Medical purposes only\"))  \n",
    "display(Markdown(\"**Further information**: [https://digital.nhs.uk/data-and-information/data-tools-and-services/data-services/hospital-episode-statistics](https://digital.nhs.uk/data-and-information/data-tools-and-services/data-services/hospital-episode-statistics)\"))\n"
   ]
  },
  {
   "attachments": {},
   "cell_type": "markdown",
   "id": "ee2455db",
   "metadata": {},
   "source": [
    "## 2. Metrics\n",
    "Below we include tables that summarise the ECDS dataset in the UK LLC TRE."
   ]
  },
  {
   "attachments": {},
   "cell_type": "markdown",
   "id": "e0d88fc3",
   "metadata": {},
   "source": [
    "**Table 1** The number of participants from each LPS that are represented in the ECDS dataset in the UK LLC TRE  \n",
    "\n",
    "**Note**: Numbers in Table 1 relate to the most recent extract of NHS England data and so may not correspond to the numbers of participants from each LPS in the data you were provisioned.  "
   ]
  },
  {
   "cell_type": "code",
   "execution_count": 3,
   "id": "877ef22f",
   "metadata": {},
   "outputs": [
    {
     "name": "stdout",
     "output_type": "stream",
     "text": [
      "╒════════════════╤═════════╕\n",
      "│ cohort         │   count │\n",
      "╞════════════════╪═════════╡\n",
      "│ ALSPAC         │    1878 │\n",
      "├────────────────┼─────────┤\n",
      "│ BCS70          │    2156 │\n",
      "├────────────────┼─────────┤\n",
      "│ BIB            │   11721 │\n",
      "├────────────────┼─────────┤\n",
      "│ ELSA           │    3161 │\n",
      "├────────────────┼─────────┤\n",
      "│ EPICN          │    6649 │\n",
      "├────────────────┼─────────┤\n",
      "│ EXCEED         │    3440 │\n",
      "├────────────────┼─────────┤\n",
      "│ FENLAND        │    4030 │\n",
      "├────────────────┼─────────┤\n",
      "│ GLAD           │   24250 │\n",
      "├────────────────┼─────────┤\n",
      "│ MCS            │    7991 │\n",
      "├────────────────┼─────────┤\n",
      "│ NCDS58         │    2379 │\n",
      "├────────────────┼─────────┤\n",
      "│ NEXTSTEP       │    2014 │\n",
      "├────────────────┼─────────┤\n",
      "│ NIHRBIO_COPING │    5955 │\n",
      "├────────────────┼─────────┤\n",
      "│ NSHD46         │    1060 │\n",
      "├────────────────┼─────────┤\n",
      "│ TEDS           │       0 │\n",
      "├────────────────┼─────────┤\n",
      "│ TRACKC19       │    4188 │\n",
      "├────────────────┼─────────┤\n",
      "│ TWINSUK        │    5020 │\n",
      "├────────────────┼─────────┤\n",
      "│ UKHLS          │    2521 │\n",
      "├────────────────┼─────────┤\n",
      "│ total          │   88413 │\n",
      "╘════════════════╧═════════╛\n"
     ]
    }
   ],
   "source": [
    "# group extract by date\n",
    "gb_cohort = document.get_cohort_count()\n",
    "print(gb_cohort.to_markdown(index=False, tablefmt=\"fancy_grid\"))\n",
    "#display(gb_cohort)"
   ]
  },
  {
   "attachments": {},
   "cell_type": "markdown",
   "id": "4d7cab9b",
   "metadata": {},
   "source": [
    "## 3. Helpful syntax\n",
    "Below we will include syntax that may be helpful to other researchers in the UK LLC TRE. For longer scripts, we will include a snippet of the code plus a link to Git where you can find the full script. "
   ]
  },
  {
   "cell_type": "code",
   "execution_count": null,
   "id": "7be91ae8",
   "metadata": {},
   "outputs": [],
   "source": []
  }
 ],
 "metadata": {
  "kernelspec": {
   "display_name": "Python 3",
   "language": "python",
   "name": "python3"
  },
  "language_info": {
   "codemirror_mode": {
    "name": "ipython",
    "version": 3
   },
   "file_extension": ".py",
   "mimetype": "text/x-python",
   "name": "python",
   "nbconvert_exporter": "python",
   "pygments_lexer": "ipython3",
   "version": "3.12.2"
  }
 },
 "nbformat": 4,
 "nbformat_minor": 5
}
