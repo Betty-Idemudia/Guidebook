{
 "cells": [
  {
   "cell_type": "markdown",
   "id": "93df96e5",
   "metadata": {},
   "source": [
    "# HES Admitted Patient Care Dataset\n",
    "## 1. Summary\n",
    "The information below is retrieved from the Health Data Gateway API developed by NHS England."
   ]
  },
  {
   "cell_type": "code",
   "execution_count": 3,
   "id": "910dadbd",
   "metadata": {},
   "outputs": [],
   "source": [
    "# define target dataset to document\n",
    "schema = 'nhsd'\n",
    "table = 'HESAPC'\n",
    "version = 'v0002'\n",
    "# import functions from script helper\n",
    "import sys\n",
    "script_fp = \"../../../../scripts/\"\n",
    "sys.path.insert(0, script_fp)\n",
    "from data_doc_helper import DocHelper\n",
    "# create instance\n",
    "document = DocHelper(schema, table, version, script_fp)\n",
    "# markdown/code hybrid cell module requirement\n",
    "from IPython.display import display, Markdown"
   ]
  },
  {
   "cell_type": "code",
   "execution_count": 2,
   "id": "103f2c9b",
   "metadata": {},
   "outputs": [
    {
     "data": {
      "text/markdown": [
       "**Title of dataset:** Hospital Episode Statistics Admitted Patient Care"
      ],
      "text/plain": [
       "<IPython.core.display.Markdown object>"
      ]
     },
     "metadata": {},
     "output_type": "display_data"
    },
    {
     "data": {
      "text/markdown": [
       "**Short abstract:** Record-level patient data set of patients admitted for treatment at NHS hospitals in England, including delivery and birth data. A record represents one episode."
      ],
      "text/plain": [
       "<IPython.core.display.Markdown object>"
      ]
     },
     "metadata": {},
     "output_type": "display_data"
    },
    {
     "data": {
      "text/markdown": [
       "**Extended abstract:** Hospital Episode Statistics (HES) is a database containing details of all admissions, A and E attendances and outpatient appointments at NHS hospitals in England.\n",
       "\n",
       "Records in the HES Admitted Patient Care (APC) database are called ‘hospital episodes’, and each hospital episode relates to a period of care for a patient under a single consultant within one hospital provider. A stay in hospital from admission to discharge is called a ‘spell’ and can be made up of one or more episodes of care. HES APC looks at completed episodes, called Finished Admission Episodes (FAEs), which is the first episode in a spell of care, and Finished Consultant Episodes (FCEs), which is a continuous period of care under one consultant.\n",
       "\n",
       "Initially this data is collected during a patient's time at hospital as part of the Commissioning Data Set (CDS). This is submitted to NHS Digital for processing and is returned to healthcare providers as the Secondary Uses Service (SUS) data set and includes information relating to payment for activity undertaken. It allows hospitals to be paid for the care they deliver. \n",
       "\n",
       "This same data can also be processed and used for non-clinical purposes, such as research and planning health services. Because these uses are not to do with direct patient care, they are called 'secondary uses'. This is the HES data set.\n",
       "\n",
       "HES data covers all NHS Clinical Commissioning Groups (CCGs) in England, including:\n",
       "\n",
       "private patients treated in NHS hospitals\n",
       "patients resident outside of England\n",
       "care delivered by treatment centres (including those in the independent sector) funded by the NHS\n",
       "Each HES record contains a wide range of information about an individual patient admitted to an NHS hospital, including:\n",
       "\n",
       "clinical information about diagnoses and operations\n",
       "patient information, such as age group, gender and ethnicity\n",
       "administrative information, such as dates and methods of admission and discharge\n",
       "geographical information such as where patients are treated and the area where they live\n",
       "We apply a strict statistical disclosure control in accordance with the NHS Digital protocol, to all published HES data. This suppresses small numbers to stop people identifying themselves and others, to ensure that patient confidentiality is maintained.\n",
       "\n",
       "https://digital.nhs.uk/data-and-information/publications/statistical/hospital-admitted-patient-care-activity"
      ],
      "text/plain": [
       "<IPython.core.display.Markdown object>"
      ]
     },
     "metadata": {},
     "output_type": "display_data"
    },
    {
     "data": {
      "text/markdown": [
       "**Associated links:** https://digital.nhs.uk/data-and-information/publications/statistical/hospital-admitted-patient-care-activity"
      ],
      "text/plain": [
       "<IPython.core.display.Markdown object>"
      ]
     },
     "metadata": {},
     "output_type": "display_data"
    },
    {
     "data": {
      "text/markdown": [
       "**Geographical coverage:** United Kingdom,England"
      ],
      "text/plain": [
       "<IPython.core.display.Markdown object>"
      ]
     },
     "metadata": {},
     "output_type": "display_data"
    },
    {
     "data": {
      "text/markdown": [
       "**Temporal coverage:** 01/04/1989"
      ],
      "text/plain": [
       "<IPython.core.display.Markdown object>"
      ]
     },
     "metadata": {},
     "output_type": "display_data"
    },
    {
     "data": {
      "text/markdown": [
       "**Typical age range:** 0-120"
      ],
      "text/plain": [
       "<IPython.core.display.Markdown object>"
      ]
     },
     "metadata": {},
     "output_type": "display_data"
    },
    {
     "data": {
      "text/markdown": [
       "**Purpose:** CARE"
      ],
      "text/plain": [
       "<IPython.core.display.Markdown object>"
      ]
     },
     "metadata": {},
     "output_type": "display_data"
    },
    {
     "data": {
      "text/markdown": [
       "**Source:** EPR"
      ],
      "text/plain": [
       "<IPython.core.display.Markdown object>"
      ]
     },
     "metadata": {},
     "output_type": "display_data"
    },
    {
     "data": {
      "text/markdown": [
       "**Collection situation:** IN-PATIENTS"
      ],
      "text/plain": [
       "<IPython.core.display.Markdown object>"
      ]
     },
     "metadata": {},
     "output_type": "display_data"
    },
    {
     "data": {
      "text/markdown": [
       "**Pathway:** Secondary Care pathway. This dataset covers inpatient admissions to hospitals in England. It includes information on the treatment and outcome of the hospital admission and can be linked to the HES A&E dataset to further the pathway if an A&E attendance took place prior to an admissions to hospital."
      ],
      "text/plain": [
       "<IPython.core.display.Markdown object>"
      ]
     },
     "metadata": {},
     "output_type": "display_data"
    },
    {
     "data": {
      "text/markdown": [
       "**Publishing frequency:** MONTHLY"
      ],
      "text/plain": [
       "<IPython.core.display.Markdown object>"
      ]
     },
     "metadata": {},
     "output_type": "display_data"
    },
    {
     "data": {
      "text/markdown": [
       "**Time lag:** 1-2 MONTHS"
      ],
      "text/plain": [
       "<IPython.core.display.Markdown object>"
      ]
     },
     "metadata": {},
     "output_type": "display_data"
    },
    {
     "data": {
      "text/markdown": [
       "**Semantic annotations:** OPCS4"
      ],
      "text/plain": [
       "<IPython.core.display.Markdown object>"
      ]
     },
     "metadata": {},
     "output_type": "display_data"
    },
    {
     "data": {
      "text/markdown": [
       "**Data models:** NHS DATA DICTIONARY"
      ],
      "text/plain": [
       "<IPython.core.display.Markdown object>"
      ]
     },
     "metadata": {},
     "output_type": "display_data"
    },
    {
     "data": {
      "text/markdown": [
       "**Language:** en"
      ],
      "text/plain": [
       "<IPython.core.display.Markdown object>"
      ]
     },
     "metadata": {},
     "output_type": "display_data"
    }
   ],
   "source": [
    "# get api data\n",
    "dataset = document.get_api_data()\n",
    "display(Markdown(\"**Title of dataset:** \"+dataset['datasetfields']['datautility']['title']))\n",
    "display(Markdown(\"**Short abstract:** \"+dataset['datasetfields']['abstract']))\n",
    "display(Markdown(\"**Extended abstract:** \"+dataset['datasetv2']['documentation']['description']))\n",
    "display(Markdown(\"**Associated links:** \"+dataset['datasetv2']['documentation']['associatedMedia'][0]))\n",
    "display(Markdown(\"**Geographical coverage:** \"+dataset['datasetfields']['geographicCoverage'][0]))\n",
    "display(Markdown(\"**Temporal coverage:** \"+dataset['datasetfields']['datasetStartDate']))\n",
    "display(Markdown(\"**Typical age range:** \"+dataset['datasetfields']['ageBand']))\n",
    "display(Markdown(\"**Purpose:** \"+dataset['datasetv2']['provenance']['origin']['purpose'][0]))\n",
    "display(Markdown(\"**Source:** \"+dataset['datasetv2']['provenance']['origin']['source'][0]))\n",
    "display(Markdown(\"**Collection situation:** \"+dataset['datasetv2']['provenance']['origin']['collectionSituation'][0]))\n",
    "display(Markdown(\"**Pathway:** \"+dataset['datasetv2']['coverage']['pathway']))\n",
    "display(Markdown(\"**Publishing frequency:** \"+dataset['datasetfields']['periodicity']))\n",
    "display(Markdown(\"**Time lag:** \"+dataset['datasetv2']['provenance']['temporal']['timeLag']))\n",
    "display(Markdown(\"**Semantic annotations:** \"+dataset['datasetv2']['accessibility']['formatAndStandards']['vocabularyEncodingScheme'][0]))\n",
    "display(Markdown(\"**Data models:** \"+dataset['datasetv2']['accessibility']['formatAndStandards']['conformsTo'][0]))\n",
    "display(Markdown(\"**Language:** \"+dataset['datasetv2']['accessibility']['formatAndStandards']['language'][0]))\n"
   ]
  },
  {
   "cell_type": "markdown",
   "id": "c5b35fc5",
   "metadata": {},
   "source": [
    "## 2. Further details\n",
    "**Dataset name in UK LLC TRE**: nhsd.HESAPC  \n",
    "**Data available from**: 01/04/1997 onwards  \n",
    "**Information collected**: Patient demographics, date and source of admission, waiting time, reason for admission, clinical diagnosis and procedures performed, and date and destination of discharge  \n",
    "**Structure of dataset**: Data are organised into episodes and spells - see section 3 for further details   \n",
    "**Nested datasets**: HESAPC encompasses the following three datasets: Maternity dataset (HESAPC_MAT), Critical Care minimum dataset (HESCC) and the retired Augmented Care Periods dataset (HESAPC_ACP)  \n",
    "**Update frequency in UK LLC TRE**: Quarterly  \n",
    "**Dataset version**: TBC  \n",
    "**Summary of changes between dataset versions**: TBC  \n",
    "**Data quality issues**: TBC  \n",
    "**Restrictions to data usage**: Medical purposes only    \n",
    "**Further information**: https://digital.nhs.uk/data-and-information/data-tools-and-services/data-services/hospital-episode-statistics"
   ]
  },
  {
   "cell_type": "markdown",
   "id": "649e5298",
   "metadata": {},
   "source": [
    "## 3. Structure of the HESAPC dataset\n",
    "### Episodes and spells\n",
    "Data in the HESAPC dataset are organised into **episodes** and **spells**. Each row indicates a **Finished Consultant Episode (FCE)**, which is a continuous period of care under one consultant at a single hospital. A **spell** is a continuous period of care within a single hospital from admission to discharge or death. Most patients in the dataset are represented by one row of data - a more complex scenario is explained below.  \n",
    "\n",
    "If the patient was seen by multiple consultants during the same stay at the same hospital, a spell may contain one or more FCEs, i.e. one or more rows of data per patient (see figure 1). The first (or only) FCE can also be called a **Finished Admission Episode (FAE)** and the final (or only) FCE can also be called a **Discharge Episode**. This is why there are more FCEs than FAEs in the APC dataset: https://digital.nhs.uk/data-and-information/publications/statistical/hospital-admitted-patient-care-activity. \n",
    "\n",
    "<img src=\"../../../../images/Episodes_spells_diagram_APC.jpg\" width=\"600\"/>  \n",
    "\n",
    "**Figure 1** Episodes and spells in the HESAPC dataset - each row of data in the dataset corresponds to a single FCE\n",
    "### Continuous Inpatient (CIP) spells\n",
    "A more complex scenario again is if a patient is transferred to a different hospital. In this instance, a new spell begins. To identify and measure continuous hospital stays, which include transfers to other hospitals, Continuous Inpatient (CIP) spells need to be derived (see figure 2).\n",
    "\n",
    "<img src=\"../../../../images/CIP_spell_diagram_APC.jpg\" width=\"600\"/>  \n",
    "\n",
    "**Figure 2** Spells and CIP spells in the HESAPC dataset\n",
    "\n",
    "### Episodes/spells that span financial years\n",
    "FCEs are entered into the HESAPC dataset according to the financial year in which they end. Consequently, episodes/spells that start in one financial year and end in another will be classified as unfinished in the starting financial year and finished in the ending financial year. Unfinished episodes/spells need to be removed before analysis to prevent double counting. "
   ]
  },
  {
   "cell_type": "markdown",
   "id": "f623ec79",
   "metadata": {},
   "source": [
    "## 4. Metrics\n",
    "Below we include tables that summarise the HESAPC dataset in the UK LLC TRE."
   ]
  },
  {
   "cell_type": "code",
   "execution_count": null,
   "id": "2e49953c",
   "metadata": {
    "scrolled": true
   },
   "outputs": [
    {
     "data": {
      "text/html": [
       "<div>\n",
       "<style scoped>\n",
       "    .dataframe tbody tr th:only-of-type {\n",
       "        vertical-align: middle;\n",
       "    }\n",
       "\n",
       "    .dataframe tbody tr th {\n",
       "        vertical-align: top;\n",
       "    }\n",
       "\n",
       "    .dataframe thead th {\n",
       "        text-align: right;\n",
       "    }\n",
       "</style>\n",
       "<table border=\"1\" class=\"dataframe\">\n",
       "  <thead>\n",
       "    <tr style=\"text-align: right;\">\n",
       "      <th></th>\n",
       "      <th>extract_date</th>\n",
       "      <th>count</th>\n",
       "    </tr>\n",
       "  </thead>\n",
       "  <tbody>\n",
       "    <tr>\n",
       "      <th>0</th>\n",
       "      <td>2022-01-07</td>\n",
       "      <td>1121712</td>\n",
       "    </tr>\n",
       "    <tr>\n",
       "      <th>1</th>\n",
       "      <td>2022-02-11</td>\n",
       "      <td>53136</td>\n",
       "    </tr>\n",
       "    <tr>\n",
       "      <th>2</th>\n",
       "      <td>2022-03-04</td>\n",
       "      <td>25</td>\n",
       "    </tr>\n",
       "    <tr>\n",
       "      <th>3</th>\n",
       "      <td>2022-06-10</td>\n",
       "      <td>106782</td>\n",
       "    </tr>\n",
       "    <tr>\n",
       "      <th>4</th>\n",
       "      <td>2022-06-30</td>\n",
       "      <td>528</td>\n",
       "    </tr>\n",
       "    <tr>\n",
       "      <th>5</th>\n",
       "      <td>2022-08-25</td>\n",
       "      <td>95463</td>\n",
       "    </tr>\n",
       "    <tr>\n",
       "      <th>6</th>\n",
       "      <td>2022-12-21</td>\n",
       "      <td>103546</td>\n",
       "    </tr>\n",
       "    <tr>\n",
       "      <th>7</th>\n",
       "      <td>2023-04-13</td>\n",
       "      <td>62227</td>\n",
       "    </tr>\n",
       "    <tr>\n",
       "      <th>8</th>\n",
       "      <td>TOTAL</td>\n",
       "      <td>1543419</td>\n",
       "    </tr>\n",
       "  </tbody>\n",
       "</table>\n",
       "</div>"
      ],
      "text/plain": [
       "  extract_date    count\n",
       "0   2022-01-07  1121712\n",
       "1   2022-02-11    53136\n",
       "2   2022-03-04       25\n",
       "3   2022-06-10   106782\n",
       "4   2022-06-30      528\n",
       "5   2022-08-25    95463\n",
       "6   2022-12-21   103546\n",
       "7   2023-04-13    62227\n",
       "8        TOTAL  1543419"
      ]
     },
     "metadata": {},
     "output_type": "display_data"
    }
   ],
   "source": [
    "# group extract by date\n",
    "gb = document.groupby()\n",
    "display(gb)"
   ]
  },
  {
   "cell_type": "markdown",
   "id": "07867124",
   "metadata": {},
   "source": [
    "**Table 1** The number of HESAPC records in the UK LLC TRE by extract date"
   ]
  },
  {
   "cell_type": "code",
   "execution_count": null,
   "id": "ed2b2510",
   "metadata": {},
   "outputs": [
    {
     "data": {
      "text/html": [
       "<div>\n",
       "<style scoped>\n",
       "    .dataframe tbody tr th:only-of-type {\n",
       "        vertical-align: middle;\n",
       "    }\n",
       "\n",
       "    .dataframe tbody tr th {\n",
       "        vertical-align: top;\n",
       "    }\n",
       "\n",
       "    .dataframe thead th {\n",
       "        text-align: right;\n",
       "    }\n",
       "</style>\n",
       "<table border=\"1\" class=\"dataframe\">\n",
       "  <thead>\n",
       "    <tr style=\"text-align: right;\">\n",
       "      <th></th>\n",
       "      <th>study</th>\n",
       "      <th>participant_count</th>\n",
       "    </tr>\n",
       "  </thead>\n",
       "  <tbody>\n",
       "    <tr>\n",
       "      <th>0</th>\n",
       "      <td>ALSPAC</td>\n",
       "      <td>4475</td>\n",
       "    </tr>\n",
       "    <tr>\n",
       "      <th>1</th>\n",
       "      <td>BCS70</td>\n",
       "      <td>5028</td>\n",
       "    </tr>\n",
       "    <tr>\n",
       "      <th>2</th>\n",
       "      <td>BIB</td>\n",
       "      <td>27044</td>\n",
       "    </tr>\n",
       "    <tr>\n",
       "      <th>3</th>\n",
       "      <td>ELSA</td>\n",
       "      <td>6446</td>\n",
       "    </tr>\n",
       "    <tr>\n",
       "      <th>4</th>\n",
       "      <td>EPICN</td>\n",
       "      <td>13992</td>\n",
       "    </tr>\n",
       "    <tr>\n",
       "      <th>5</th>\n",
       "      <td>EXCEED</td>\n",
       "      <td>8283</td>\n",
       "    </tr>\n",
       "    <tr>\n",
       "      <th>6</th>\n",
       "      <td>FENLAND</td>\n",
       "      <td>8561</td>\n",
       "    </tr>\n",
       "    <tr>\n",
       "      <th>7</th>\n",
       "      <td>GLAD</td>\n",
       "      <td>40059</td>\n",
       "    </tr>\n",
       "    <tr>\n",
       "      <th>8</th>\n",
       "      <td>MCS</td>\n",
       "      <td>15870</td>\n",
       "    </tr>\n",
       "    <tr>\n",
       "      <th>9</th>\n",
       "      <td>NCDS58</td>\n",
       "      <td>5437</td>\n",
       "    </tr>\n",
       "    <tr>\n",
       "      <th>10</th>\n",
       "      <td>NEXTSTEP</td>\n",
       "      <td>3615</td>\n",
       "    </tr>\n",
       "    <tr>\n",
       "      <th>11</th>\n",
       "      <td>NIHRBIO_COPING</td>\n",
       "      <td>14043</td>\n",
       "    </tr>\n",
       "    <tr>\n",
       "      <th>12</th>\n",
       "      <td>NSHD46</td>\n",
       "      <td>2794</td>\n",
       "    </tr>\n",
       "    <tr>\n",
       "      <th>13</th>\n",
       "      <td>TRACKC19</td>\n",
       "      <td>11054</td>\n",
       "    </tr>\n",
       "    <tr>\n",
       "      <th>14</th>\n",
       "      <td>TWINSUK</td>\n",
       "      <td>11556</td>\n",
       "    </tr>\n",
       "    <tr>\n",
       "      <th>15</th>\n",
       "      <td>UKHLS</td>\n",
       "      <td>5854</td>\n",
       "    </tr>\n",
       "    <tr>\n",
       "      <th>16</th>\n",
       "      <td>TOTAL</td>\n",
       "      <td>184111</td>\n",
       "    </tr>\n",
       "  </tbody>\n",
       "</table>\n",
       "</div>"
      ],
      "text/plain": [
       "             study  participant_count\n",
       "0           ALSPAC               4475\n",
       "1            BCS70               5028\n",
       "2              BIB              27044\n",
       "3             ELSA               6446\n",
       "4            EPICN              13992\n",
       "5           EXCEED               8283\n",
       "6          FENLAND               8561\n",
       "7             GLAD              40059\n",
       "8              MCS              15870\n",
       "9           NCDS58               5437\n",
       "10        NEXTSTEP               3615\n",
       "11  NIHRBIO_COPING              14043\n",
       "12          NSHD46               2794\n",
       "13        TRACKC19              11054\n",
       "14         TWINSUK              11556\n",
       "15           UKHLS               5854\n",
       "16           TOTAL             184111"
      ]
     },
     "metadata": {},
     "output_type": "display_data"
    }
   ],
   "source": [
    "# group extract by date\n",
    "gb_cohort = document.groupby_cohort()\n",
    "display(gb_cohort)"
   ]
  },
  {
   "cell_type": "markdown",
   "id": "e96c5d35",
   "metadata": {},
   "source": [
    "**Table 2** The number of participants from each LPS that are represented in the HESAPC dataset in the UK LLC TRE"
   ]
  },
  {
   "cell_type": "markdown",
   "id": "42334ef7",
   "metadata": {},
   "source": [
    "## 5. Helpful syntax\n",
    "Below we will include syntax that may be helpful to other researchers in the UK LLC TRE. For longer scripts, we will include a snippet of the code plus a link to Git where you can find the full script. "
   ]
  }
 ],
 "metadata": {
  "kernelspec": {
   "display_name": "Python 3 (ipykernel)",
   "language": "python",
   "name": "python3"
  },
  "language_info": {
   "codemirror_mode": {
    "name": "ipython",
    "version": 3
   },
   "file_extension": ".py",
   "mimetype": "text/x-python",
   "name": "python",
   "nbconvert_exporter": "python",
   "pygments_lexer": "ipython3",
   "version": "3.12.0"
  }
 },
 "nbformat": 4,
 "nbformat_minor": 5
}
