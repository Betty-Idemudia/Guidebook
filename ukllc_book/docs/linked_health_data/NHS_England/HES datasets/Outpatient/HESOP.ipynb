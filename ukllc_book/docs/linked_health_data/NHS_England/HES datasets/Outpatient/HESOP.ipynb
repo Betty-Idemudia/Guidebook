{
 "cells": [
  {
   "cell_type": "markdown",
   "id": "c928623b",
   "metadata": {},
   "source": [
    "# HES Outpatients Dataset\n",
    "## 1. Summary\n",
    "The information below is retrieved from the Health Data Gateway API developed by NHS England, with additional fields added by UK LLC."
   ]
  },
  {
   "cell_type": "code",
   "execution_count": 1,
   "id": "910dadbd",
   "metadata": {},
   "outputs": [],
   "source": [
    "# define target dataset to document\n",
    "schema = 'nhsd'\n",
    "table = 'HESOP'\n",
    "version = 'v0002'\n",
    "# import functions from script helper\n",
    "import sys\n",
    "script_fp = \"../../../../scripts/\"\n",
    "sys.path.insert(0, script_fp)\n",
    "from data_doc_helper import DocHelper\n",
    "# create instance\n",
    "document = DocHelper(schema, table, version, script_fp)\n",
    "# markdown/code hybrid cell module requirement\n",
    "from IPython.display import display, Markdown"
   ]
  },
  {
   "cell_type": "code",
   "execution_count": 2,
   "id": "103f2c9b",
   "metadata": {},
   "outputs": [
    {
     "data": {
      "text/markdown": [
       "**NHS England title of dataset:** Hospital Episode Statistics Outpatients"
      ],
      "text/plain": [
       "<IPython.core.display.Markdown object>"
      ]
     },
     "metadata": {},
     "output_type": "display_data"
    },
    {
     "data": {
      "text/markdown": [
       "**Dataset name in UK LLC TRE**: nhsd.HESAPC"
      ],
      "text/plain": [
       "<IPython.core.display.Markdown object>"
      ]
     },
     "metadata": {},
     "output_type": "display_data"
    },
    {
     "data": {
      "text/markdown": [
       "**Nested datasets**: HESAPC encompasses the following three datasets: Maternity dataset (HESAPC_MAT), Critical Care minimum dataset (HESCC) and the retired Augmented Care Periods dataset (HESAPC_ACP)"
      ],
      "text/plain": [
       "<IPython.core.display.Markdown object>"
      ]
     },
     "metadata": {},
     "output_type": "display_data"
    },
    {
     "data": {
      "text/markdown": [
       "**Short abstract:** Record-level patient data set of patients attending outpatient clinics at NHS hospitals in England. A record represents one appointment."
      ],
      "text/plain": [
       "<IPython.core.display.Markdown object>"
      ]
     },
     "metadata": {},
     "output_type": "display_data"
    },
    {
     "data": {
      "text/markdown": [
       "**Extended abstract:** Hospital Episode Statistics (HES) is a database containing details of all admissions, A and E attendances and outpatient appointments at NHS hospitals in England.\n",
       "\n",
       "Initially this data is collected during a patient's time at hospital as part of the Commissioning Data Set (CDS). This is submitted to NHS Digital for processing and is returned to healthcare providers as the Secondary Uses Service (SUS) data set and includes information relating to payment for activity undertaken. It allows hospitals to be paid for the care they deliver. \n",
       "\n",
       "This same data can also be processed and used for non-clinical purposes, such as research and planning health services. Because these uses are not to do with direct patient care, they are called 'secondary uses'. This is the HES data set.\n",
       "\n",
       "HES data covers all NHS Clinical Commissioning Groups (CCGs) in England, including:\n",
       "\n",
       "private patients treated in NHS hospitals\n",
       "patients resident outside of England\n",
       "care delivered by treatment centres (including those in the independent sector) funded by the NHS\n",
       "Each HES record contains a wide range of information about an individual patient admitted to an NHS hospital, including:\n",
       "\n",
       "clinical information about diagnoses and operations\n",
       "patient information, such as age group, gender and ethnicity\n",
       "administrative information, such as dates and methods of admission and discharge\n",
       "geographical information such as where patients are treated and the area where they live\n",
       "We apply a strict statistical disclosure control in accordance with the NHS Digital protocol, to all published HES data. This suppresses small numbers to stop people identifying themselves and others, to ensure that patient confidentiality is maintained.\n",
       "\n",
       "https://digital.nhs.uk/data-and-information/publications/statistical/hospital-outpatient-activity"
      ],
      "text/plain": [
       "<IPython.core.display.Markdown object>"
      ]
     },
     "metadata": {},
     "output_type": "display_data"
    },
    {
     "data": {
      "text/markdown": [
       "**Geographical coverage:** United Kingdom,England"
      ],
      "text/plain": [
       "<IPython.core.display.Markdown object>"
      ]
     },
     "metadata": {},
     "output_type": "display_data"
    },
    {
     "data": {
      "text/markdown": [
       "**Temporal coverage:** 2003-04-01"
      ],
      "text/plain": [
       "<IPython.core.display.Markdown object>"
      ]
     },
     "metadata": {},
     "output_type": "display_data"
    },
    {
     "data": {
      "text/markdown": [
       "**Data available from**: 01/04/1997 onwards"
      ],
      "text/plain": [
       "<IPython.core.display.Markdown object>"
      ]
     },
     "metadata": {},
     "output_type": "display_data"
    },
    {
     "data": {
      "text/markdown": [
       "**Typical age range:** 0-150"
      ],
      "text/plain": [
       "<IPython.core.display.Markdown object>"
      ]
     },
     "metadata": {},
     "output_type": "display_data"
    },
    {
     "data": {
      "text/markdown": [
       "**Collection situation:** OUTPATIENTS"
      ],
      "text/plain": [
       "<IPython.core.display.Markdown object>"
      ]
     },
     "metadata": {},
     "output_type": "display_data"
    },
    {
     "data": {
      "text/markdown": [
       "**Purpose:** CARE"
      ],
      "text/plain": [
       "<IPython.core.display.Markdown object>"
      ]
     },
     "metadata": {},
     "output_type": "display_data"
    },
    {
     "data": {
      "text/markdown": [
       "**Source:** EPR"
      ],
      "text/plain": [
       "<IPython.core.display.Markdown object>"
      ]
     },
     "metadata": {},
     "output_type": "display_data"
    },
    {
     "data": {
      "text/markdown": [
       "**Pathway:** Secondary Care pathway. This dataset covers outpatient appointments at hospitals in England. It includes information on the treatment and outcome of the appointment."
      ],
      "text/plain": [
       "<IPython.core.display.Markdown object>"
      ]
     },
     "metadata": {},
     "output_type": "display_data"
    },
    {
     "data": {
      "text/markdown": [
       "**Information collected**: Patient demographics, date and source of admission, waiting time, reason for admission, clinical diagnosis and procedures performed, and date and destination of discharge"
      ],
      "text/plain": [
       "<IPython.core.display.Markdown object>"
      ]
     },
     "metadata": {},
     "output_type": "display_data"
    },
    {
     "data": {
      "text/markdown": [
       "**Structure of dataset**: Data are organised into episodes and spells - see section 2 for further details"
      ],
      "text/plain": [
       "<IPython.core.display.Markdown object>"
      ]
     },
     "metadata": {},
     "output_type": "display_data"
    },
    {
     "data": {
      "text/markdown": [
       "**Semantic annotations:** OPCS4"
      ],
      "text/plain": [
       "<IPython.core.display.Markdown object>"
      ]
     },
     "metadata": {},
     "output_type": "display_data"
    },
    {
     "data": {
      "text/markdown": [
       "**Data models:** NHS DATA DICTIONARY"
      ],
      "text/plain": [
       "<IPython.core.display.Markdown object>"
      ]
     },
     "metadata": {},
     "output_type": "display_data"
    },
    {
     "data": {
      "text/markdown": [
       "**Language:** en"
      ],
      "text/plain": [
       "<IPython.core.display.Markdown object>"
      ]
     },
     "metadata": {},
     "output_type": "display_data"
    },
    {
     "data": {
      "text/markdown": [
       "**Update frequency in UK LLC TRE**: Quarterly"
      ],
      "text/plain": [
       "<IPython.core.display.Markdown object>"
      ]
     },
     "metadata": {},
     "output_type": "display_data"
    },
    {
     "data": {
      "text/markdown": [
       "**Dataset version in UK LLC TRE**: TBC"
      ],
      "text/plain": [
       "<IPython.core.display.Markdown object>"
      ]
     },
     "metadata": {},
     "output_type": "display_data"
    },
    {
     "data": {
      "text/markdown": [
       "**Summary of changes between dataset versions**: TBC"
      ],
      "text/plain": [
       "<IPython.core.display.Markdown object>"
      ]
     },
     "metadata": {},
     "output_type": "display_data"
    },
    {
     "data": {
      "text/markdown": [
       "**Data quality issues**: TBC"
      ],
      "text/plain": [
       "<IPython.core.display.Markdown object>"
      ]
     },
     "metadata": {},
     "output_type": "display_data"
    },
    {
     "data": {
      "text/markdown": [
       "**Restrictions to data usage**: Medical purposes only"
      ],
      "text/plain": [
       "<IPython.core.display.Markdown object>"
      ]
     },
     "metadata": {},
     "output_type": "display_data"
    },
    {
     "data": {
      "text/markdown": [
       "**Further information**: https://digital.nhs.uk/data-and-information/data-tools-and-services/data-services/hospital-episode-statistics"
      ],
      "text/plain": [
       "<IPython.core.display.Markdown object>"
      ]
     },
     "metadata": {},
     "output_type": "display_data"
    }
   ],
   "source": [
    "# get api data\n",
    "dataset = document.get_api_data()\n",
    "display(Markdown(\"**NHS England title of dataset:** \"+dataset['datasetfields']['datautility']['title']))\n",
    "display(Markdown(\"**Dataset name in UK LLC TRE**: nhsd.HESAPC\"))  \n",
    "display(Markdown(\"**Nested datasets**: HESAPC encompasses the following three datasets: Maternity dataset (HESAPC_MAT), Critical Care minimum dataset (HESCC) and the retired Augmented Care Periods dataset (HESAPC_ACP)\"))  \n",
    "display(Markdown(\"**Short abstract:** \"+dataset['datasetfields']['abstract']))\n",
    "display(Markdown(\"**Extended abstract:** \"+dataset['datasetv2']['documentation']['description']))\n",
    "display(Markdown(\"**Geographical coverage:** \"+dataset['datasetfields']['geographicCoverage'][0]))\n",
    "display(Markdown(\"**Temporal coverage:** \"+dataset['datasetfields']['datasetStartDate']))\n",
    "display(Markdown(\"**Data available from**: 01/04/1997 onwards\"))\n",
    "display(Markdown(\"**Typical age range:** \"+dataset['datasetfields']['ageBand']))\n",
    "display(Markdown(\"**Collection situation:** \"+dataset['datasetv2']['provenance']['origin']['collectionSituation'][0]))\n",
    "display(Markdown(\"**Purpose:** \"+dataset['datasetv2']['provenance']['origin']['purpose'][0]))\n",
    "display(Markdown(\"**Source:** \"+dataset['datasetv2']['provenance']['origin']['source'][0]))\n",
    "display(Markdown(\"**Pathway:** \"+dataset['datasetv2']['coverage']['pathway']))\n",
    "display(Markdown(\"**Information collected**: Patient demographics, date and source of admission, waiting time, reason for admission, clinical diagnosis and procedures performed, and date and destination of discharge\"))  \n",
    "display(Markdown(\"**Structure of dataset**: Data are organised into episodes and spells - see section 2 for further details\"))  \n",
    "display(Markdown(\"**Semantic annotations:** \"+dataset['datasetv2']['accessibility']['formatAndStandards']['vocabularyEncodingScheme'][0]))\n",
    "display(Markdown(\"**Data models:** \"+dataset['datasetv2']['accessibility']['formatAndStandards']['conformsTo'][0]))\n",
    "display(Markdown(\"**Language:** \"+dataset['datasetv2']['accessibility']['formatAndStandards']['language'][0]))\n",
    "display(Markdown(\"**Update frequency in UK LLC TRE**: Quarterly\"))  \n",
    "display(Markdown(\"**Dataset version in UK LLC TRE**: TBC\"))\n",
    "display(Markdown(\"**Summary of changes between dataset versions**: TBC\"))  \n",
    "display(Markdown(\"**Data quality issues**: TBC\"))  \n",
    "display(Markdown(\"**Restrictions to data usage**: Medical purposes only\"))  \n",
    "display(Markdown(\"**Further information**: https://digital.nhs.uk/data-and-information/data-tools-and-services/data-services/hospital-episode-statistics\"))\n"
   ]
  },
  {
   "cell_type": "markdown",
   "id": "ee2455db",
   "metadata": {},
   "source": [
    "## 2. Metrics\n",
    "Below we include tables that summarise the HESOP dataset in the UK LLC TRE."
   ]
  },
  {
   "cell_type": "code",
   "execution_count": 3,
   "id": "2e49953c",
   "metadata": {
    "scrolled": true
   },
   "outputs": [
    {
     "name": "stdout",
     "output_type": "stream",
     "text": [
      "╒════════════════╤═════════╕\n",
      "│ extract_date   │   count │\n",
      "╞════════════════╪═════════╡\n",
      "│ 2022-01-07     │ 5592065 │\n",
      "├────────────────┼─────────┤\n",
      "│ 2022-02-11     │  312950 │\n",
      "├────────────────┼─────────┤\n",
      "│ 2022-03-04     │     128 │\n",
      "├────────────────┼─────────┤\n",
      "│ 2022-06-10     │  617775 │\n",
      "├────────────────┼─────────┤\n",
      "│ 2022-06-30     │    4792 │\n",
      "├────────────────┼─────────┤\n",
      "│ 2022-08-25     │  513438 │\n",
      "├────────────────┼─────────┤\n",
      "│ 2022-12-21     │  590237 │\n",
      "├────────────────┼─────────┤\n",
      "│ 2023-04-13     │  382208 │\n",
      "├────────────────┼─────────┤\n",
      "│ total          │ 8013593 │\n",
      "╘════════════════╧═════════╛\n"
     ]
    }
   ],
   "source": [
    "# group extract by date\n",
    "gb = document.get_extract_count()\n",
    "print(gb.to_markdown(index=False, tablefmt=\"fancy_grid\"))\n",
    "#display(gb_cohort)"
   ]
  },
  {
   "cell_type": "markdown",
   "id": "c61c9c68",
   "metadata": {},
   "source": [
    "**Table 1** The number of HESOP records in the UK LLC TRE by extract date"
   ]
  },
  {
   "cell_type": "code",
   "execution_count": 4,
   "id": "877ef22f",
   "metadata": {},
   "outputs": [
    {
     "name": "stdout",
     "output_type": "stream",
     "text": [
      "╒════════════════╤═════════╕\n",
      "│ cohort         │   count │\n",
      "╞════════════════╪═════════╡\n",
      "│ ALSPAC         │    5677 │\n",
      "├────────────────┼─────────┤\n",
      "│ BCS70          │    5681 │\n",
      "├────────────────┼─────────┤\n",
      "│ BIB            │   26088 │\n",
      "├────────────────┼─────────┤\n",
      "│ ELSA           │    6952 │\n",
      "├────────────────┼─────────┤\n",
      "│ EPICN          │   14684 │\n",
      "├────────────────┼─────────┤\n",
      "│ EXCEED         │    9144 │\n",
      "├────────────────┼─────────┤\n",
      "│ FENLAND        │   10027 │\n",
      "├────────────────┼─────────┤\n",
      "│ GLAD           │   44330 │\n",
      "├────────────────┼─────────┤\n",
      "│ MCS            │   17080 │\n",
      "├────────────────┼─────────┤\n",
      "│ NCDS58         │    6143 │\n",
      "├────────────────┼─────────┤\n",
      "│ NEXTSTEP       │    4433 │\n",
      "├────────────────┼─────────┤\n",
      "│ NIHRBIO_COPING │   16052 │\n",
      "├────────────────┼─────────┤\n",
      "│ NSHD46         │    2861 │\n",
      "├────────────────┼─────────┤\n",
      "│ TRACKC19       │   13247 │\n",
      "├────────────────┼─────────┤\n",
      "│ TWINSUK        │   12553 │\n",
      "├────────────────┼─────────┤\n",
      "│ UKHLS          │    6609 │\n",
      "├────────────────┼─────────┤\n",
      "│ total          │  201561 │\n",
      "╘════════════════╧═════════╛\n"
     ]
    }
   ],
   "source": [
    "# group extract by date\n",
    "gb_cohort = document.get_cohort_count()\n",
    "print(gb_cohort.to_markdown(index=False, tablefmt=\"fancy_grid\"))\n",
    "#display(gb_cohort)"
   ]
  },
  {
   "cell_type": "markdown",
   "id": "e0d88fc3",
   "metadata": {},
   "source": [
    "**Table 2** The number of participants from each LPS that are represented in the HESOP dataset in the UK LLC TRE"
   ]
  },
  {
   "cell_type": "markdown",
   "id": "4d7cab9b",
   "metadata": {},
   "source": [
    "## 3. Helpful syntax\n",
    "Below we will include syntax that may be helpful to other researchers in the UK LLC TRE. For longer scripts, we will include a snippet of the code plus a link to Git where you can find the full script. "
   ]
  }
 ],
 "metadata": {
  "kernelspec": {
   "display_name": "Python 3 (ipykernel)",
   "language": "python",
   "name": "python3"
  },
  "language_info": {
   "codemirror_mode": {
    "name": "ipython",
    "version": 3
   },
   "file_extension": ".py",
   "mimetype": "text/x-python",
   "name": "python",
   "nbconvert_exporter": "python",
   "pygments_lexer": "ipython3",
   "version": "3.12.2"
  }
 },
 "nbformat": 4,
 "nbformat_minor": 5
}
