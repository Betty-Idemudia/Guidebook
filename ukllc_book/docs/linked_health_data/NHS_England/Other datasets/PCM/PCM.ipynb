{
 "cells": [
  {
   "attachments": {},
   "cell_type": "markdown",
   "id": "c928623b",
   "metadata": {},
   "source": [
    "# Primary Care Medicines Dataset\n",
    "## 1. Summary\n",
    "The information below is retrieved from the Health Data Gateway API developed by NHS England, with additional fields added by UK LLC. This dataset is also called the Medicines Dispensed in Primary Care NHS Business Services Authority dataset."
   ]
  },
  {
   "cell_type": "code",
   "execution_count": 1,
   "id": "910dadbd",
   "metadata": {},
   "outputs": [],
   "source": [
    "# define target dataset to document\n",
    "schema = 'nhsd'\n",
    "table = 'PCM'\n",
    "version = 'v0002'\n",
    "# import functions from script helper\n",
    "import sys\n",
    "script_fp = \"../../../../scripts/\"\n",
    "sys.path.insert(0, script_fp)\n",
    "from data_doc_helper import DocHelper\n",
    "# create instance\n",
    "document = DocHelper(schema, table, version, script_fp)\n",
    "# markdown/code hybrid cell module requirement\n",
    "from IPython.display import display, Markdown"
   ]
  },
  {
   "cell_type": "code",
   "execution_count": 2,
   "id": "103f2c9b",
   "metadata": {},
   "outputs": [
    {
     "data": {
      "text/markdown": [
       "**NHS England title of dataset:** Medicines dispensed in Primary Care (NHSBSA data)"
      ],
      "text/plain": [
       "<IPython.core.display.Markdown object>"
      ]
     },
     "metadata": {},
     "output_type": "display_data"
    },
    {
     "data": {
      "text/markdown": [
       "**Dataset name in UK LLC TRE:** nhsd.PCM"
      ],
      "text/plain": [
       "<IPython.core.display.Markdown object>"
      ]
     },
     "metadata": {},
     "output_type": "display_data"
    },
    {
     "data": {
      "text/markdown": [
       "**Short abstract:** The Medicines Dispensed in Primary Care (NHSBSA) data comprises prescriptions for medicines that are dispensed or supplied by community pharmacists, appliance contractors and dispensing doctors in England."
      ],
      "text/plain": [
       "<IPython.core.display.Markdown object>"
      ]
     },
     "metadata": {},
     "output_type": "display_data"
    },
    {
     "data": {
      "text/markdown": [
       "**Extended abstract:** Since July 2020 NHS Digital has established a collection of data from electronic and paper prescriptions submitted to the NHSBSA for reimbursement each month.\n",
       "\n",
       "The data comprises prescriptions for medicines that are dispensed or supplied by community pharmacists, appliance contractors and dispensing doctors in England.\n",
       "\n",
       "The data also includes:\n",
       "\n",
       "prescriptions submitted by prescribing doctors, for medicines personally administered in England\n",
       "prescriptions written in England and dispensed outside of England\n",
       "prescriptions written in Wales, Scotland, Northern Ireland, the Isle of Man, Jersey and Guernsey but dispensed in England\n",
       "\n",
       "Data includes prescriptions issued by prescribers in:\n",
       "\n",
       "general practice\n",
       "community clinics\n",
       "hospital clinics\n",
       "dentists\n",
       "community nursing services.\n",
       "\n",
       "There are around 90 to 100 million rows of patient-level data in this collection per month. Each row represents each medicine or appliance on a prescription and includes personal data (for example NHS number) and special category data (data concerning health).\n",
       "\n",
       "Timescales for dissemination of agreed data can be found under 'Our Service Levels' at the following link: https://digital.nhs.uk/services/data-access-request-service-dars/data-access-request-service-dars-process [Standard response]"
      ],
      "text/plain": [
       "<IPython.core.display.Markdown object>"
      ]
     },
     "metadata": {},
     "output_type": "display_data"
    },
    {
     "data": {
      "text/markdown": [
       "**Geographical coverage:** United Kingdom,England"
      ],
      "text/plain": [
       "<IPython.core.display.Markdown object>"
      ]
     },
     "metadata": {},
     "output_type": "display_data"
    },
    {
     "data": {
      "text/markdown": [
       "**Temporal coverage:** 2018-04-01"
      ],
      "text/plain": [
       "<IPython.core.display.Markdown object>"
      ]
     },
     "metadata": {},
     "output_type": "display_data"
    },
    {
     "data": {
      "text/markdown": [
       "**Data available in UK LLC TRE from:** 01/04/2015 onwards"
      ],
      "text/plain": [
       "<IPython.core.display.Markdown object>"
      ]
     },
     "metadata": {},
     "output_type": "display_data"
    },
    {
     "data": {
      "text/markdown": [
       "**Typical age range:** 0-150"
      ],
      "text/plain": [
       "<IPython.core.display.Markdown object>"
      ]
     },
     "metadata": {},
     "output_type": "display_data"
    },
    {
     "data": {
      "text/markdown": [
       "**Collection situation:** PRIMARY CARE"
      ],
      "text/plain": [
       "<IPython.core.display.Markdown object>"
      ]
     },
     "metadata": {},
     "output_type": "display_data"
    },
    {
     "data": {
      "text/markdown": [
       "**Purpose:** CARE"
      ],
      "text/plain": [
       "<IPython.core.display.Markdown object>"
      ]
     },
     "metadata": {},
     "output_type": "display_data"
    },
    {
     "data": {
      "text/markdown": [
       "**Source:** PAPER BASED"
      ],
      "text/plain": [
       "<IPython.core.display.Markdown object>"
      ]
     },
     "metadata": {},
     "output_type": "display_data"
    },
    {
     "data": {
      "text/markdown": [
       "**Pathway:** MEDICINES IN COMMUNITY SETTINGS"
      ],
      "text/plain": [
       "<IPython.core.display.Markdown object>"
      ]
     },
     "metadata": {},
     "output_type": "display_data"
    },
    {
     "data": {
      "text/markdown": [
       "**Information collected:** TBC"
      ],
      "text/plain": [
       "<IPython.core.display.Markdown object>"
      ]
     },
     "metadata": {},
     "output_type": "display_data"
    },
    {
     "data": {
      "text/markdown": [
       "**Structure of dataset:** TBC"
      ],
      "text/plain": [
       "<IPython.core.display.Markdown object>"
      ]
     },
     "metadata": {},
     "output_type": "display_data"
    },
    {
     "data": {
      "text/markdown": [
       "**Update frequency in UK LLC TRE:** Quarterly"
      ],
      "text/plain": [
       "<IPython.core.display.Markdown object>"
      ]
     },
     "metadata": {},
     "output_type": "display_data"
    },
    {
     "data": {
      "text/markdown": [
       "**Dataset version in UK LLC TRE:** TBC"
      ],
      "text/plain": [
       "<IPython.core.display.Markdown object>"
      ]
     },
     "metadata": {},
     "output_type": "display_data"
    },
    {
     "data": {
      "text/markdown": [
       "**Summary of changes between dataset versions:** TBC"
      ],
      "text/plain": [
       "<IPython.core.display.Markdown object>"
      ]
     },
     "metadata": {},
     "output_type": "display_data"
    },
    {
     "data": {
      "text/markdown": [
       "**Data quality issues:** TBC"
      ],
      "text/plain": [
       "<IPython.core.display.Markdown object>"
      ]
     },
     "metadata": {},
     "output_type": "display_data"
    },
    {
     "data": {
      "text/markdown": [
       "**Restrictions to data usage:** Medical purposes only"
      ],
      "text/plain": [
       "<IPython.core.display.Markdown object>"
      ]
     },
     "metadata": {},
     "output_type": "display_data"
    },
    {
     "data": {
      "text/markdown": [
       "**Further information:** [https://digital.nhs.uk/data-and-information/data-tools-and-services/data-services/medicines-dispensed-in-primary-care-nhsbsa-data](https://digital.nhs.uk/data-and-information/data-tools-and-services/data-services/medicines-dispensed-in-primary-care-nhsbsa-data)"
      ],
      "text/plain": [
       "<IPython.core.display.Markdown object>"
      ]
     },
     "metadata": {},
     "output_type": "display_data"
    }
   ],
   "source": [
    "# get api data\n",
    "dataset = document.get_api_data()\n",
    "display(Markdown(\"**NHS England title of dataset:** \"+dataset['datasetfields']['datautility']['title']))\n",
    "display(Markdown(\"**Dataset name in UK LLC TRE:** nhsd.PCM\"))  \n",
    "display(Markdown(\"**Short abstract:** \"+dataset['datasetfields']['abstract']))\n",
    "display(Markdown(\"**Extended abstract:** \"+dataset['datasetv2']['documentation']['description']))\n",
    "display(Markdown(\"**Geographical coverage:** \"+dataset['datasetfields']['geographicCoverage'][0]))\n",
    "display(Markdown(\"**Temporal coverage:** \"+dataset['datasetfields']['datasetStartDate']))\n",
    "display(Markdown(\"**Data available in UK LLC TRE from:** 01/04/2015 onwards\"))\n",
    "display(Markdown(\"**Typical age range:** \"+dataset['datasetfields']['ageBand']))\n",
    "display(Markdown(\"**Collection situation:** \"+dataset['datasetv2']['provenance']['origin']['collectionSituation'][0]))\n",
    "display(Markdown(\"**Purpose:** \"+dataset['datasetv2']['provenance']['origin']['purpose'][0]))\n",
    "display(Markdown(\"**Source:** \"+dataset['datasetv2']['provenance']['origin']['source'][0]))\n",
    "display(Markdown(\"**Pathway:** \"+dataset['datasetv2']['coverage']['pathway']))\n",
    "display(Markdown(\"**Information collected:** TBC\"))  \n",
    "display(Markdown(\"**Structure of dataset:** TBC\"))  \n",
    "display(Markdown(\"**Update frequency in UK LLC TRE:** Quarterly\"))  \n",
    "display(Markdown(\"**Dataset version in UK LLC TRE:** TBC\"))\n",
    "display(Markdown(\"**Summary of changes between dataset versions:** TBC\"))  \n",
    "display(Markdown(\"**Data quality issues:** TBC\"))  \n",
    "display(Markdown(\"**Restrictions to data usage:** Medical purposes only\"))  \n",
    "display(Markdown(\"**Further information:** [https://digital.nhs.uk/data-and-information/data-tools-and-services/data-services/medicines-dispensed-in-primary-care-nhsbsa-data](https://digital.nhs.uk/data-and-information/data-tools-and-services/data-services/medicines-dispensed-in-primary-care-nhsbsa-data)\"))\n"
   ]
  },
  {
   "attachments": {},
   "cell_type": "markdown",
   "id": "ee2455db",
   "metadata": {},
   "source": [
    "## 2. Metrics\n",
    "Below we include tables that summarise the PCM dataset in the UK LLC TRE."
   ]
  },
  {
   "attachments": {},
   "cell_type": "markdown",
   "id": "e0d88fc3",
   "metadata": {},
   "source": [
    "**Table 1** The number of participants from each LPS that are represented in the PCM dataset in the UK LLC TRE  \n",
    "\n",
    "**Note**: Numbers in Table 1 relate to the most recent extract of NHS England data and so may not correspond to the numbers of participants from each LPS in the data you were provisioned. "
   ]
  },
  {
   "cell_type": "code",
   "execution_count": 3,
   "id": "877ef22f",
   "metadata": {},
   "outputs": [
    {
     "name": "stdout",
     "output_type": "stream",
     "text": [
      "╒════════════════╤═════════╕\n",
      "│ cohort         │   count │\n",
      "╞════════════════╪═════════╡\n",
      "│ ALSPAC         │    5175 │\n",
      "├────────────────┼─────────┤\n",
      "│ BCS70          │    5192 │\n",
      "├────────────────┼─────────┤\n",
      "│ BIB            │   24114 │\n",
      "├────────────────┼─────────┤\n",
      "│ ELSA           │    6821 │\n",
      "├────────────────┼─────────┤\n",
      "│ EPICN          │   14502 │\n",
      "├────────────────┼─────────┤\n",
      "│ EXCEED         │    8968 │\n",
      "├────────────────┼─────────┤\n",
      "│ FENLAND        │    9365 │\n",
      "├────────────────┼─────────┤\n",
      "│ GLAD           │   45140 │\n",
      "├────────────────┼─────────┤\n",
      "│ MCS            │   15747 │\n",
      "├────────────────┼─────────┤\n",
      "│ NCDS58         │    5719 │\n",
      "├────────────────┼─────────┤\n",
      "│ NEXTSTEP       │    3969 │\n",
      "├────────────────┼─────────┤\n",
      "│ NIHRBIO_COPING │   15186 │\n",
      "├────────────────┼─────────┤\n",
      "│ NSHD46         │    2423 │\n",
      "├────────────────┼─────────┤\n",
      "│ TEDS           │       0 │\n",
      "├────────────────┼─────────┤\n",
      "│ TRACKC19       │   12392 │\n",
      "├────────────────┼─────────┤\n",
      "│ TWINSUK        │   11030 │\n",
      "├────────────────┼─────────┤\n",
      "│ UKHLS          │    6337 │\n",
      "├────────────────┼─────────┤\n",
      "│ total          │  192080 │\n",
      "╘════════════════╧═════════╛\n"
     ]
    }
   ],
   "source": [
    "gb_cohort = document.get_cohort_count()\n",
    "print(gb_cohort.to_markdown(index=False, tablefmt=\"fancy_grid\"))"
   ]
  },
  {
   "attachments": {},
   "cell_type": "markdown",
   "id": "4d7cab9b",
   "metadata": {},
   "source": [
    "## 3. Helpful syntax\n",
    "Below we will include syntax that may be helpful to other researchers in the UK LLC TRE. For longer scripts, we will include a snippet of the code plus a link to Git where you can find the full script. "
   ]
  }
 ],
 "metadata": {
  "kernelspec": {
   "display_name": "Python 3",
   "language": "python",
   "name": "python3"
  },
  "language_info": {
   "codemirror_mode": {
    "name": "ipython",
    "version": 3
   },
   "file_extension": ".py",
   "mimetype": "text/x-python",
   "name": "python",
   "nbconvert_exporter": "python",
   "pygments_lexer": "ipython3",
   "version": "3.12.2"
  }
 },
 "nbformat": 4,
 "nbformat_minor": 5
}
