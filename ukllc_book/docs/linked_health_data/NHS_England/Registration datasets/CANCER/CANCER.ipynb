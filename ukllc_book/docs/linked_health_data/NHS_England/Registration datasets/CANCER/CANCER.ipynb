{
 "cells": [
  {
   "attachments": {},
   "cell_type": "markdown",
   "id": "c928623b",
   "metadata": {},
   "source": [
    "# Cancer Registration (CANCER) Dataset\n",
    "## 1. Summary\n",
    "The information below is retrieved from the Health Data Gateway API developed by NHS England, with additional fields added by UK LLC (indicated by italics)."
   ]
  },
  {
   "cell_type": "code",
   "execution_count": 1,
   "id": "910dadbd",
   "metadata": {},
   "outputs": [],
   "source": [
    "# define target dataset to document\n",
    "schema = 'nhsd'\n",
    "table = 'CANCER'\n",
    "version = 'v0002'\n",
    "# import functions from script helper\n",
    "import sys\n",
    "script_fp = \"../../../../scripts/\"\n",
    "sys.path.insert(0, script_fp)\n",
    "from data_doc_helper import DocHelper\n",
    "# create instance\n",
    "document = DocHelper(schema, table, version, script_fp)\n",
    "# markdown/code hybrid cell module requirement\n",
    "from IPython.display import display, Markdown"
   ]
  },
  {
   "cell_type": "code",
   "execution_count": 2,
   "id": "103f2c9b",
   "metadata": {},
   "outputs": [
    {
     "data": {
      "text/markdown": [
       "**NHS England title of dataset:** Cancer Registration Data"
      ],
      "text/plain": [
       "<IPython.core.display.Markdown object>"
      ]
     },
     "metadata": {},
     "output_type": "display_data"
    },
    {
     "data": {
      "text/markdown": [
       "***Dataset name in UK LLC TRE:*** *nhsd.CANCER*"
      ],
      "text/plain": [
       "<IPython.core.display.Markdown object>"
      ]
     },
     "metadata": {},
     "output_type": "display_data"
    },
    {
     "data": {
      "text/markdown": [
       "**Short abstract:** PHE supply cancer registration data to NHS Digital. For linkage with other NHS Digital data to provide notifications on cancer status, be available to support research studies and to identify potential research participants for clinical trials."
      ],
      "text/plain": [
       "<IPython.core.display.Markdown object>"
      ]
     },
     "metadata": {},
     "output_type": "display_data"
    },
    {
     "data": {
      "text/markdown": [
       "***Extended abstract:*** *Data are collected by the National Cancer Registration and Analysis Service (NCRAS), which is part of NHS England's [National Disease Registration Service (NDRS)](https://digital.nhs.uk/ndrs/). The Cancer Registration dataset is a subset of the Cancer Outcomes and Services Dataset (COSD), which is the national standard for collecting cancer data in the NHS. The Cancer Registration dataset includes all patients (adults and children) diagnosed with or receiving cancer treatment in or funded by the NHS in England since 1971. Data collected include demographic characteristics and information about diagnoses and treatments. Data are collected under section 251 of the NHS Act 2006. Patients may opt out of the Cancer Registry, but this is different from the [National data opt out](https://digital.nhs.uk/services/national-data-opt-out). NCRAS works closely with cancer charities to promote the value of population-based cancer registration; <1 in 10,000 cancer patients opt out of the registry. For further information see the [National Cancer Registration Dataset Data Resource Profile](https://www.ncbi.nlm.nih.gov/pmc/articles/PMC7124503/pdf/dyz076.pdf).*"
      ],
      "text/plain": [
       "<IPython.core.display.Markdown object>"
      ]
     },
     "metadata": {},
     "output_type": "display_data"
    },
    {
     "data": {
      "text/markdown": [
       "**Geographical coverage:** United Kingdom,England"
      ],
      "text/plain": [
       "<IPython.core.display.Markdown object>"
      ]
     },
     "metadata": {},
     "output_type": "display_data"
    },
    {
     "data": {
      "text/markdown": [
       "**Temporal coverage:** 1971-01-01"
      ],
      "text/plain": [
       "<IPython.core.display.Markdown object>"
      ]
     },
     "metadata": {},
     "output_type": "display_data"
    },
    {
     "data": {
      "text/markdown": [
       "***Data available in UK LLC TRE from:*** *01/01/1971 onwards*"
      ],
      "text/plain": [
       "<IPython.core.display.Markdown object>"
      ]
     },
     "metadata": {},
     "output_type": "display_data"
    },
    {
     "data": {
      "text/markdown": [
       "**Typical age range:** 0-150"
      ],
      "text/plain": [
       "<IPython.core.display.Markdown object>"
      ]
     },
     "metadata": {},
     "output_type": "display_data"
    },
    {
     "data": {
      "text/markdown": [
       "**Collection situation:** CLINIC"
      ],
      "text/plain": [
       "<IPython.core.display.Markdown object>"
      ]
     },
     "metadata": {},
     "output_type": "display_data"
    },
    {
     "data": {
      "text/markdown": [
       "**Purpose:** DISEASE REGISTRY"
      ],
      "text/plain": [
       "<IPython.core.display.Markdown object>"
      ]
     },
     "metadata": {},
     "output_type": "display_data"
    },
    {
     "data": {
      "text/markdown": [
       "**Source:** O"
      ],
      "text/plain": [
       "<IPython.core.display.Markdown object>"
      ]
     },
     "metadata": {},
     "output_type": "display_data"
    },
    {
     "data": {
      "text/markdown": [
       "**Pathway:** Cancer"
      ],
      "text/plain": [
       "<IPython.core.display.Markdown object>"
      ]
     },
     "metadata": {},
     "output_type": "display_data"
    },
    {
     "data": {
      "text/markdown": [
       "***Information collected:*** *Demographic characteristics and information about diagnoses and treatments.*"
      ],
      "text/plain": [
       "<IPython.core.display.Markdown object>"
      ]
     },
     "metadata": {},
     "output_type": "display_data"
    },
    {
     "data": {
      "text/markdown": [
       "***Structure of dataset:*** *Each line represents one participant.*"
      ],
      "text/plain": [
       "<IPython.core.display.Markdown object>"
      ]
     },
     "metadata": {},
     "output_type": "display_data"
    },
    {
     "data": {
      "text/markdown": [
       "***Update frequency in UK LLC TRE:*** *Quarterly*"
      ],
      "text/plain": [
       "<IPython.core.display.Markdown object>"
      ]
     },
     "metadata": {},
     "output_type": "display_data"
    },
    {
     "data": {
      "text/markdown": [
       "***Dataset versions in UK LLC TRE:*** *TBC*"
      ],
      "text/plain": [
       "<IPython.core.display.Markdown object>"
      ]
     },
     "metadata": {},
     "output_type": "display_data"
    },
    {
     "data": {
      "text/markdown": [
       "***Data quality issues:*** *Data submitted to the Cancer Registry are checked using a combination of automated tools and manual review by cancer registration officers who have detailed knowledge of cancer biology, coding and terminology. Care should be taken when interpreting time series, because clinical and coding definitions of cancer have changed over time. For further details see the [National Cancer Registration Dataset Data Resource Profile](https://www.ncbi.nlm.nih.gov/pmc/articles/PMC7124503/pdf/dyz076.pdf).*"
      ],
      "text/plain": [
       "<IPython.core.display.Markdown object>"
      ]
     },
     "metadata": {},
     "output_type": "display_data"
    },
    {
     "data": {
      "text/markdown": [
       "***Restrictions to data usage***: *Medical purposes only (medical research) as defined in the NHS Act 2006: [https://www.legislation.gov.uk/ukpga/2006/41/part/13/crossheading/patient-information](https://www.legislation.gov.uk/ukpga/2006/41/part/13/crossheading/patient-information)*"
      ],
      "text/plain": [
       "<IPython.core.display.Markdown object>"
      ]
     },
     "metadata": {},
     "output_type": "display_data"
    },
    {
     "data": {
      "text/markdown": [
       "***Further information:*** *[https://digital.nhs.uk/ndrs/](https://digital.nhs.uk/ndrs/)*"
      ],
      "text/plain": [
       "<IPython.core.display.Markdown object>"
      ]
     },
     "metadata": {},
     "output_type": "display_data"
    }
   ],
   "source": [
    "# get api data\n",
    "dataset = document.get_api_data()\n",
    "display(Markdown(\"**NHS England title of dataset:** \"+dataset['datasetfields']['datautility']['title']))\n",
    "display(Markdown(\"***Dataset name in UK LLC TRE:*** *nhsd.CANCER*\"))  \n",
    "display(Markdown(\"**Short abstract:** \"+dataset['datasetfields']['abstract']))\n",
    "display(Markdown(\"***Extended abstract:*** *Data are collected by the National Cancer Registration and Analysis Service (NCRAS), which is part of NHS England's [National Disease Registration Service (NDRS)](https://digital.nhs.uk/ndrs/). The Cancer Registration dataset is a subset of the Cancer Outcomes and Services Dataset (COSD), which is the national standard for collecting cancer data in the NHS. The Cancer Registration dataset includes all patients (adults and children) diagnosed with or receiving cancer treatment in or funded by the NHS in England since 1971. Data collected include demographic characteristics and information about diagnoses and treatments. Data are collected under section 251 of the NHS Act 2006. Patients may opt out of the Cancer Registry, but this is different from the [National data opt out](https://digital.nhs.uk/services/national-data-opt-out). NCRAS works closely with cancer charities to promote the value of population-based cancer registration; <1 in 10,000 cancer patients opt out of the registry. For further information see the [National Cancer Registration Dataset Data Resource Profile](https://www.ncbi.nlm.nih.gov/pmc/articles/PMC7124503/pdf/dyz076.pdf).*\"))\n",
    "display(Markdown(\"**Geographical coverage:** \"+dataset['datasetfields']['geographicCoverage'][0]))\n",
    "display(Markdown(\"**Temporal coverage:** \"+dataset['datasetfields']['datasetStartDate']))\n",
    "display(Markdown(\"***Data available in UK LLC TRE from:*** *01/01/1971 onwards*\"))\n",
    "display(Markdown(\"**Typical age range:** \"+dataset['datasetfields']['ageBand']))\n",
    "display(Markdown(\"**Collection situation:** \"+dataset['datasetv2']['provenance']['origin']['collectionSituation'][0]))\n",
    "display(Markdown(\"**Purpose:** \"+dataset['datasetv2']['provenance']['origin']['purpose'][0]))\n",
    "display(Markdown(\"**Source:** \"+dataset['datasetv2']['provenance']['origin']['source'][0]))\n",
    "display(Markdown(\"**Pathway:** \"+dataset['datasetv2']['coverage']['pathway']))\n",
    "display(Markdown(\"***Information collected:*** *Demographic characteristics and information about diagnoses and treatments.*\"))  \n",
    "display(Markdown(\"***Structure of dataset:*** *Each line represents one participant.*\"))  \n",
    "display(Markdown(\"***Update frequency in UK LLC TRE:*** *Quarterly*\"))  \n",
    "display(Markdown(\"***Dataset versions in UK LLC TRE:*** *TBC*\"))\n",
    "display(Markdown(\"***Data quality issues:*** *Data submitted to the Cancer Registry are checked using a combination of automated tools and manual review by cancer registration officers who have detailed knowledge of cancer biology, coding and terminology. Care should be taken when interpreting time series, because clinical and coding definitions of cancer have changed over time. For further details see the [National Cancer Registration Dataset Data Resource Profile](https://www.ncbi.nlm.nih.gov/pmc/articles/PMC7124503/pdf/dyz076.pdf).*\"))  \n",
    "display(Markdown(\"***Restrictions to data usage***: *Medical purposes only (medical research) as defined in the NHS Act 2006: [https://www.legislation.gov.uk/ukpga/2006/41/part/13/crossheading/patient-information](https://www.legislation.gov.uk/ukpga/2006/41/part/13/crossheading/patient-information)*\"))  \n",
    "display(Markdown(\"***Further information:*** *[https://digital.nhs.uk/ndrs/](https://digital.nhs.uk/ndrs/)*\"))\n"
   ]
  },
  {
   "attachments": {},
   "cell_type": "markdown",
   "id": "ee2455db",
   "metadata": {},
   "source": [
    "## 2. Metrics\n",
    "The tables below summarise the CANCER dataset in the UK LLC TRE."
   ]
  },
  {
   "attachments": {},
   "cell_type": "markdown",
   "id": "e0d88fc3",
   "metadata": {},
   "source": [
    "**Table 1** The number of participants from each LPS that are represented in the CANCER dataset in the UK LLC TRE  \n",
    "(**Note**: numbers relate to the most recent extract of NHS England data) "
   ]
  },
  {
   "cell_type": "code",
   "execution_count": 3,
   "id": "877ef22f",
   "metadata": {},
   "outputs": [
    {
     "name": "stdout",
     "output_type": "stream",
     "text": [
      "╒════════════════╤═════════╕\n",
      "│ cohort         │   count │\n",
      "╞════════════════╪═════════╡\n",
      "│ ALSPAC         │     231 │\n",
      "├────────────────┼─────────┤\n",
      "│ BCS70          │     514 │\n",
      "├────────────────┼─────────┤\n",
      "│ BIB            │     740 │\n",
      "├────────────────┼─────────┤\n",
      "│ ELSA           │    1678 │\n",
      "├────────────────┼─────────┤\n",
      "│ EPICN          │    4942 │\n",
      "├────────────────┼─────────┤\n",
      "│ EXCEED         │    1491 │\n",
      "├────────────────┼─────────┤\n",
      "│ FENLAND        │    1461 │\n",
      "├────────────────┼─────────┤\n",
      "│ GLAD           │    2002 │\n",
      "├────────────────┼─────────┤\n",
      "│ MCS            │    1157 │\n",
      "├────────────────┼─────────┤\n",
      "│ NCDS58         │    1056 │\n",
      "├────────────────┼─────────┤\n",
      "│ NEXTSTEP       │     129 │\n",
      "├────────────────┼─────────┤\n",
      "│ NIHRBIO_COPING │    1793 │\n",
      "├────────────────┼─────────┤\n",
      "│ NSHD46         │    1059 │\n",
      "├────────────────┼─────────┤\n",
      "│ TEDS           │       0 │\n",
      "├────────────────┼─────────┤\n",
      "│ TRACKC19       │    1124 │\n",
      "├────────────────┼─────────┤\n",
      "│ TWINSUK        │    2669 │\n",
      "├────────────────┼─────────┤\n",
      "│ UKHLS          │     943 │\n",
      "├────────────────┼─────────┤\n",
      "│ total          │   22989 │\n",
      "╘════════════════╧═════════╛\n"
     ]
    }
   ],
   "source": [
    "gb_cohort = document.get_cohort_count()\n",
    "print(gb_cohort.to_markdown(index=False, tablefmt=\"fancy_grid\"))"
   ]
  },
  {
   "attachments": {},
   "cell_type": "markdown",
   "id": "4d7cab9b",
   "metadata": {},
   "source": [
    "## 3. Helpful syntax\n",
    "Below we will include syntax that may be helpful to other researchers in the UK LLC TRE. For longer scripts, we will include a snippet of the code plus a link to Git where you can find the full script. "
   ]
  }
 ],
 "metadata": {
  "kernelspec": {
   "display_name": "Python 3",
   "language": "python",
   "name": "python3"
  },
  "language_info": {
   "codemirror_mode": {
    "name": "ipython",
    "version": 3
   },
   "file_extension": ".py",
   "mimetype": "text/x-python",
   "name": "python",
   "nbconvert_exporter": "python",
   "pygments_lexer": "ipython3",
   "version": "3.12.2"
  }
 },
 "nbformat": 4,
 "nbformat_minor": 5
}
