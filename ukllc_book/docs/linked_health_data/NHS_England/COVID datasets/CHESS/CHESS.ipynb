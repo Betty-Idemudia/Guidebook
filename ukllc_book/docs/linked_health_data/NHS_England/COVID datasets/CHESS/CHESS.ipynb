{
 "cells": [
  {
   "attachments": {},
   "cell_type": "markdown",
   "id": "c928623b",
   "metadata": {},
   "source": [
    "# COVID-19 Hospitalisation in England Surveillance System Dataset\n",
    "## 1. Summary\n",
    "The information below is retrieved from the Health Data Gateway API developed by NHS England, with additional fields added by UK LLC. This dataset is now called the Severe Acute Respiratory Infection (SARI-WATCH) surveillance system dataset. "
   ]
  },
  {
   "cell_type": "code",
   "execution_count": 1,
   "id": "910dadbd",
   "metadata": {},
   "outputs": [],
   "source": [
    "# define target dataset to document\n",
    "schema = 'nhsd'\n",
    "table = 'CHESS'\n",
    "version = 'v0002'\n",
    "# import functions from script helper\n",
    "import sys\n",
    "script_fp = \"../../../../scripts/\"\n",
    "sys.path.insert(0, script_fp)\n",
    "from data_doc_helper import DocHelper\n",
    "# create instance\n",
    "document = DocHelper(schema, table, version, script_fp)\n",
    "# markdown/code hybrid cell module requirement\n",
    "from IPython.display import display, Markdown"
   ]
  },
  {
   "cell_type": "code",
   "execution_count": 2,
   "id": "103f2c9b",
   "metadata": {},
   "outputs": [
    {
     "data": {
      "text/markdown": [
       "**NHS England title of dataset:** COVID-19 SARI-Watch (formerly CHESS)"
      ],
      "text/plain": [
       "<IPython.core.display.Markdown object>"
      ]
     },
     "metadata": {},
     "output_type": "display_data"
    },
    {
     "data": {
      "text/markdown": [
       "**Dataset name in UK LLC TRE:** nhsd.CHESS"
      ],
      "text/plain": [
       "<IPython.core.display.Markdown object>"
      ]
     },
     "metadata": {},
     "output_type": "display_data"
    },
    {
     "data": {
      "text/markdown": [
       "**Short abstract:** The COVID-19 SARI-Watch data set (formerly CHESS) relates to demographic, risk factor, treatment, and outcome information for patients admitted to hospital with a confirmed COVID-19 diagnosis, as recorded in the COVID-19 SARI-Watch surveillance system."
      ],
      "text/plain": [
       "<IPython.core.display.Markdown object>"
      ]
     },
     "metadata": {},
     "output_type": "display_data"
    },
    {
     "data": {
      "text/markdown": [
       "**Extended abstract:** Data forming the COVID-19 SARI-Watch data set relate to demographic, risk factor, treatment, and outcome information for patients admitted to hospital with a confirmed COVID-19 diagnosis, as recorded in the PHE COVID-19 SARI-Watch Surveillance System.\n",
       "\n",
       "SARI-Watch data are to be collected for the purposes of direct care, service monitoring, planning and research in response to the spread of COVID-19, including for the following purposes identified in the COVID-19 Directions (see below): •understanding information about patient access to health services and adult social care services as a direct or indirect result of COVID-19 and the availability and capacity of those services •monitoring and managing the response to COVID-19 by health and social care bodies and the Government, including providing information to the public about COVID-19 and its effectiveness, and information about capacity, medicines, equipment, supplies, services and the workforce within the health services and adult social care services •research and planning in relation to COVID-19, such as providing COVID-19 diagnosis.\n",
       "\n",
       "Timescales for dissemination can be found under 'Our Service Levels' at the following link: [https://digital.nhs.uk/services/data-access-request-service-dars/data-access-request-service-dars-process](https://digital.nhs.uk/services/data-access-request-service-dars/data-access-request-service-dars-process) [Standard wording](https://web.www.healthdatagateway.org/dataset/f61f116d-f732-450e-9d34-c6ae00e3fd1e)\n",
       "\n",
       "NHS Digital will only disseminate SARI-Watch data collected from PHE where the information is linked to other information controlled by NHS Digital."
      ],
      "text/plain": [
       "<IPython.core.display.Markdown object>"
      ]
     },
     "metadata": {},
     "output_type": "display_data"
    },
    {
     "data": {
      "text/markdown": [
       "**Geographical coverage:** https://www.geonames.org/6269131/england.html"
      ],
      "text/plain": [
       "<IPython.core.display.Markdown object>"
      ]
     },
     "metadata": {},
     "output_type": "display_data"
    },
    {
     "data": {
      "text/markdown": [
       "**Temporal coverage:** 2020-03-12"
      ],
      "text/plain": [
       "<IPython.core.display.Markdown object>"
      ]
     },
     "metadata": {},
     "output_type": "display_data"
    },
    {
     "data": {
      "text/markdown": [
       "**Data available from:** 12/03/2020 to 01/10/2022"
      ],
      "text/plain": [
       "<IPython.core.display.Markdown object>"
      ]
     },
     "metadata": {},
     "output_type": "display_data"
    },
    {
     "data": {
      "text/markdown": [
       "**Typical age range:** 0-150"
      ],
      "text/plain": [
       "<IPython.core.display.Markdown object>"
      ]
     },
     "metadata": {},
     "output_type": "display_data"
    },
    {
     "data": {
      "text/markdown": [
       "**Collection situation:** IN-PATIENTS"
      ],
      "text/plain": [
       "<IPython.core.display.Markdown object>"
      ]
     },
     "metadata": {},
     "output_type": "display_data"
    },
    {
     "data": {
      "text/markdown": [
       "**Purpose:** STUDY"
      ],
      "text/plain": [
       "<IPython.core.display.Markdown object>"
      ]
     },
     "metadata": {},
     "output_type": "display_data"
    },
    {
     "data": {
      "text/markdown": [
       "**Source:** EPR"
      ],
      "text/plain": [
       "<IPython.core.display.Markdown object>"
      ]
     },
     "metadata": {},
     "output_type": "display_data"
    },
    {
     "data": {
      "text/markdown": [
       "**Pathway:** Not Applicable"
      ],
      "text/plain": [
       "<IPython.core.display.Markdown object>"
      ]
     },
     "metadata": {},
     "output_type": "display_data"
    },
    {
     "data": {
      "text/markdown": [
       "**Information collected:** Demographic information, risk factor, treatment and outcome information for patients admitted to hospital with a confirmed COVID-19 diagnosis. This includes people admitted to intensive care or high dependency units."
      ],
      "text/plain": [
       "<IPython.core.display.Markdown object>"
      ]
     },
     "metadata": {},
     "output_type": "display_data"
    },
    {
     "data": {
      "text/markdown": [
       "**Structure of dataset:** Each line represents one participant"
      ],
      "text/plain": [
       "<IPython.core.display.Markdown object>"
      ]
     },
     "metadata": {},
     "output_type": "display_data"
    },
    {
     "data": {
      "text/markdown": [
       "**Update frequency in UK LLC TRE:** N/A - dataset retired on 01/10/2022"
      ],
      "text/plain": [
       "<IPython.core.display.Markdown object>"
      ]
     },
     "metadata": {},
     "output_type": "display_data"
    },
    {
     "data": {
      "text/markdown": [
       "**Dataset version in UK LLC TRE:** TBC"
      ],
      "text/plain": [
       "<IPython.core.display.Markdown object>"
      ]
     },
     "metadata": {},
     "output_type": "display_data"
    },
    {
     "data": {
      "text/markdown": [
       "**Summary of changes between dataset versions:** N/A - dataset retired on 01/10/2022"
      ],
      "text/plain": [
       "<IPython.core.display.Markdown object>"
      ]
     },
     "metadata": {},
     "output_type": "display_data"
    },
    {
     "data": {
      "text/markdown": [
       "**Data quality issues:** TBC"
      ],
      "text/plain": [
       "<IPython.core.display.Markdown object>"
      ]
     },
     "metadata": {},
     "output_type": "display_data"
    },
    {
     "data": {
      "text/markdown": [
       "**Restrictions to data usage:** Medical purposes only"
      ],
      "text/plain": [
       "<IPython.core.display.Markdown object>"
      ]
     },
     "metadata": {},
     "output_type": "display_data"
    },
    {
     "data": {
      "text/markdown": [
       "**Further information:** [https://digital.nhs.uk/about-nhs-digital/corporate-information-and-documents/directions-and-data-provision-notices/data-provision-notices-dpns/sgss-and-sari-watch-data](https://digital.nhs.uk/about-nhs-digital/corporate-information-and-documents/directions-and-data-provision-notices/data-provision-notices-dpns/sgss-and-sari-watch-data)"
      ],
      "text/plain": [
       "<IPython.core.display.Markdown object>"
      ]
     },
     "metadata": {},
     "output_type": "display_data"
    }
   ],
   "source": [
    "# get api data\n",
    "dataset = document.get_api_data()\n",
    "display(Markdown(\"**NHS England title of dataset:** \"+dataset['datasetfields']['metadataquality']['title']))\n",
    "display(Markdown(\"**Dataset name in UK LLC TRE:** nhsd.CHESS\"))  \n",
    "display(Markdown(\"**Short abstract:** \"+dataset['datasetfields']['abstract']))\n",
    "display(Markdown(\"**Extended abstract:** \"+dataset['datasetv2']['documentation']['description']))\n",
    "display(Markdown(\"**Geographical coverage:** \"+dataset['datasetfields']['geographicCoverage'][0]))\n",
    "display(Markdown(\"**Temporal coverage:** \"+dataset['datasetfields']['datasetStartDate']))\n",
    "display(Markdown(\"**Data available from:** 12/03/2020 to 01/10/2022\"))\n",
    "display(Markdown(\"**Typical age range:** \"+dataset['datasetfields']['ageBand']))\n",
    "display(Markdown(\"**Collection situation:** \"+dataset['datasetv2']['provenance']['origin']['collectionSituation'][0]))\n",
    "display(Markdown(\"**Purpose:** \"+dataset['datasetv2']['provenance']['origin']['purpose'][0]))\n",
    "display(Markdown(\"**Source:** \"+dataset['datasetv2']['provenance']['origin']['source'][0]))\n",
    "display(Markdown(\"**Pathway:** \"+dataset['datasetv2']['coverage']['pathway']))\n",
    "display(Markdown(\"**Information collected:** Demographic information, risk factor, treatment and outcome information for patients admitted to hospital with a confirmed COVID-19 diagnosis. This includes people admitted to intensive care or high dependency units.\"))  \n",
    "display(Markdown(\"**Structure of dataset:** Each line represents one participant\"))  \n",
    "display(Markdown(\"**Update frequency in UK LLC TRE:** N/A - dataset retired on 01/10/2022\"))  \n",
    "display(Markdown(\"**Dataset version in UK LLC TRE:** TBC\"))\n",
    "display(Markdown(\"**Summary of changes between dataset versions:** N/A - dataset retired on 01/10/2022\"))  \n",
    "display(Markdown(\"**Data quality issues:** TBC\"))  \n",
    "display(Markdown(\"**Restrictions to data usage:** Medical purposes only\"))  \n",
    "display(Markdown(\"**Further information:** [https://digital.nhs.uk/about-nhs-digital/corporate-information-and-documents/directions-and-data-provision-notices/data-provision-notices-dpns/sgss-and-sari-watch-data](https://digital.nhs.uk/about-nhs-digital/corporate-information-and-documents/directions-and-data-provision-notices/data-provision-notices-dpns/sgss-and-sari-watch-data)\"))\n",
    "\n",
    "\n"
   ]
  },
  {
   "attachments": {},
   "cell_type": "markdown",
   "id": "ee2455db",
   "metadata": {},
   "source": [
    "## 2. Metrics\n",
    "Below we include tables that summarise the CHESS dataset in the UK LLC TRE."
   ]
  },
  {
   "attachments": {},
   "cell_type": "markdown",
   "id": "e0d88fc3",
   "metadata": {},
   "source": [
    "**Table 1** The number of participants from each LPS that are represented in the CHESS dataset in the UK LLC TRE  \n",
    "\n",
    "**Note**: Numbers in Table 1 relate to the most recent extract of NHS England data and so may not correspond to the numbers of participants from each LPS in the data you were provisioned. Numbers <10 are not included in the total."
   ]
  },
  {
   "cell_type": "code",
   "execution_count": 3,
   "id": "877ef22f",
   "metadata": {},
   "outputs": [
    {
     "name": "stdout",
     "output_type": "stream",
     "text": [
      "╒════════════════╤═════════╕\n",
      "│ cohort         │ count   │\n",
      "╞════════════════╪═════════╡\n",
      "│ ALSPAC         │ 0       │\n",
      "├────────────────┼─────────┤\n",
      "│ BCS70          │ 11      │\n",
      "├────────────────┼─────────┤\n",
      "│ BIB            │ <10     │\n",
      "├────────────────┼─────────┤\n",
      "│ ELSA           │ 24      │\n",
      "├────────────────┼─────────┤\n",
      "│ EPICN          │ <10     │\n",
      "├────────────────┼─────────┤\n",
      "│ EXCEED         │ <10     │\n",
      "├────────────────┼─────────┤\n",
      "│ FENLAND        │ 14      │\n",
      "├────────────────┼─────────┤\n",
      "│ GLAD           │ 59      │\n",
      "├────────────────┼─────────┤\n",
      "│ MCS            │ 19      │\n",
      "├────────────────┼─────────┤\n",
      "│ NCDS58         │ 11      │\n",
      "├────────────────┼─────────┤\n",
      "│ NEXTSTEP       │ <10     │\n",
      "├────────────────┼─────────┤\n",
      "│ NIHRBIO_COPING │ 11      │\n",
      "├────────────────┼─────────┤\n",
      "│ NSHD46         │ 13      │\n",
      "├────────────────┼─────────┤\n",
      "│ TEDS           │ 0       │\n",
      "├────────────────┼─────────┤\n",
      "│ TRACKC19       │ <10     │\n",
      "├────────────────┼─────────┤\n",
      "│ TWINSUK        │ 25      │\n",
      "├────────────────┼─────────┤\n",
      "│ UKHLS          │ <10     │\n",
      "├────────────────┼─────────┤\n",
      "│ total          │ 187     │\n",
      "╘════════════════╧═════════╛\n"
     ]
    }
   ],
   "source": [
    "gb_cohort = document.get_cohort_count()\n",
    "print(gb_cohort.to_markdown(index=False, tablefmt=\"fancy_grid\"))"
   ]
  },
  {
   "attachments": {},
   "cell_type": "markdown",
   "id": "4d7cab9b",
   "metadata": {},
   "source": [
    "## 3. Helpful syntax\n",
    "Below we will include syntax that may be helpful to other researchers in the UK LLC TRE. For longer scripts, we will include a snippet of the code plus a link to Git where you can find the full script. "
   ]
  },
  {
   "cell_type": "code",
   "execution_count": null,
   "id": "bfc1ba69",
   "metadata": {},
   "outputs": [],
   "source": []
  }
 ],
 "metadata": {
  "kernelspec": {
   "display_name": "Python 3",
   "language": "python",
   "name": "python3"
  },
  "language_info": {
   "codemirror_mode": {
    "name": "ipython",
    "version": 3
   },
   "file_extension": ".py",
   "mimetype": "text/x-python",
   "name": "python",
   "nbconvert_exporter": "python",
   "pygments_lexer": "ipython3",
   "version": "3.12.2"
  }
 },
 "nbformat": 4,
 "nbformat_minor": 5
}
